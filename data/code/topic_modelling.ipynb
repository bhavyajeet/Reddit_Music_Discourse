{
 "cells": [
  {
   "cell_type": "code",
   "execution_count": null,
   "id": "815bcb22",
   "metadata": {},
   "outputs": [],
   "source": [
    "from bertopic import BERTopic\n",
    "\n"
   ]
  },
  {
   "cell_type": "code",
   "execution_count": null,
   "id": "85c7907d",
   "metadata": {},
   "outputs": [],
   "source": [
    "\n",
    "topic_model = BERTopic()\n",
    "\n",
    "\n",
    "from sklearn.datasets import fetch_20newsgroups\n",
    "docs = fetch_20newsgroups(subset='all',  remove=('headers', 'footers', 'quotes'))['data']\n",
    "topics, _ = topic_model.fit_transform(docs)\n",
    "\n",
    "\n",
    "\n",
    "print (topic_model.get_topic_info())\n",
    "\n",
    "print(topic_model.get_topic(49))"
   ]
  },
  {
   "cell_type": "code",
   "execution_count": null,
   "id": "b5cf5edb",
   "metadata": {},
   "outputs": [],
   "source": [
    "topic_model.visualize_topics()"
   ]
  },
  {
   "cell_type": "code",
   "execution_count": null,
   "id": "70557f07",
   "metadata": {},
   "outputs": [],
   "source": [
    "print (type(docs))"
   ]
  },
  {
   "cell_type": "code",
   "execution_count": null,
   "id": "6a8067fc",
   "metadata": {},
   "outputs": [],
   "source": [
    "import pandas as pd\n",
    "\n",
    "df = pd.read_csv('depression_clusters.csv')\n",
    "\n",
    "\n",
    "topic_model = BERTopic(nr_topics=5)\n",
    "\n",
    "topics, _ = topic_model.fit_transform(list(df['Text']))\n",
    "\n",
    "\n",
    "\n",
    "print (topic_model.get_topic_info())\n",
    "\n",
    "print(topic_model.get_topic(49))\n"
   ]
  },
  {
   "cell_type": "code",
   "execution_count": null,
   "id": "af89253a",
   "metadata": {},
   "outputs": [],
   "source": []
  },
  {
   "cell_type": "code",
   "execution_count": null,
   "id": "1e16a42e",
   "metadata": {},
   "outputs": [],
   "source": [
    "topic_model.visualize_barchart()"
   ]
  }
 ],
 "metadata": {
  "kernelspec": {
   "display_name": "Python 3",
   "language": "python",
   "name": "python3"
  },
  "language_info": {
   "codemirror_mode": {
    "name": "ipython",
    "version": 3
   },
   "file_extension": ".py",
   "mimetype": "text/x-python",
   "name": "python",
   "nbconvert_exporter": "python",
   "pygments_lexer": "ipython3",
   "version": "3.6.12"
  }
 },
 "nbformat": 4,
 "nbformat_minor": 5
}
